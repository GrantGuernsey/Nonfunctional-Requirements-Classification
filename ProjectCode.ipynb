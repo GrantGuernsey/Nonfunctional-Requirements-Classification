{
 "cells": [
  {
   "cell_type": "markdown",
   "metadata": {},
   "source": [
    "# Introduction\n",
    "This is a dataset of software non-function requirements for different types of software products"
   ]
  },
  {
   "cell_type": "code",
   "execution_count": 1,
   "metadata": {},
   "outputs": [
    {
     "name": "stdout",
     "output_type": "stream",
     "text": [
      "Dataset URL: https://www.kaggle.com/datasets/iamvaibhav100/software-requirements-dataset\n",
      "License(s): CC0-1.0\n",
      "Downloading software-requirements-dataset.zip to ./software_requirements_dataset\n",
      "\n",
      "  Type                                        Requirement\n",
      "0   PE  The system shall refresh the display every 60 ...\n",
      "1   LF  The application shall match the color of the s...\n",
      "2   US   If projected  the data must be readable.  On ...\n",
      "3    A   The product shall be available during normal ...\n",
      "4   US   If projected  the data must be understandable...\n"
     ]
    },
    {
     "name": "stderr",
     "output_type": "stream",
     "text": [
      "\n",
      "  0%|          | 0.00/33.0k [00:00<?, ?B/s]\n",
      "100%|██████████| 33.0k/33.0k [00:00<00:00, 1.74MB/s]\n"
     ]
    }
   ],
   "source": [
    "import warnings\n",
    "import os\n",
    "import pandas as pd\n",
    "\n",
    "# Set up the directory to save the dataset\n",
    "dataset_dir = './software_requirements_dataset'\n",
    "os.makedirs(dataset_dir, exist_ok=True)\n",
    "\n",
    "# Download the dataset\n",
    "!kaggle datasets download -d iamvaibhav100/software-requirements-dataset -p {dataset_dir} --unzip\n",
    "\n",
    "# Load the CSV file into a DataFrame (assuming the file name is `requirements.csv` or similar)\n",
    "file_path = os.path.join(dataset_dir, 'software_requirements_extended.csv')  # Replace 'requirements.csv' with the actual file name\n",
    "df = pd.read_csv(file_path)\n",
    "\n",
    "# Display the first few rows\n",
    "print(df.head())"
   ]
  },
  {
   "cell_type": "markdown",
   "metadata": {},
   "source": [
    "# Dataset Preview\n",
    "Display the first few rows of the dataset using df.head()."
   ]
  },
  {
   "cell_type": "code",
   "execution_count": 2,
   "metadata": {},
   "outputs": [
    {
     "name": "stdout",
     "output_type": "stream",
     "text": [
      "Dataset preview:\n"
     ]
    },
    {
     "data": {
      "text/html": [
       "<div>\n",
       "<style scoped>\n",
       "    .dataframe tbody tr th:only-of-type {\n",
       "        vertical-align: middle;\n",
       "    }\n",
       "\n",
       "    .dataframe tbody tr th {\n",
       "        vertical-align: top;\n",
       "    }\n",
       "\n",
       "    .dataframe thead th {\n",
       "        text-align: right;\n",
       "    }\n",
       "</style>\n",
       "<table border=\"1\" class=\"dataframe\">\n",
       "  <thead>\n",
       "    <tr style=\"text-align: right;\">\n",
       "      <th></th>\n",
       "      <th>Type</th>\n",
       "      <th>Requirement</th>\n",
       "    </tr>\n",
       "  </thead>\n",
       "  <tbody>\n",
       "    <tr>\n",
       "      <th>0</th>\n",
       "      <td>PE</td>\n",
       "      <td>The system shall refresh the display every 60 ...</td>\n",
       "    </tr>\n",
       "    <tr>\n",
       "      <th>1</th>\n",
       "      <td>LF</td>\n",
       "      <td>The application shall match the color of the s...</td>\n",
       "    </tr>\n",
       "    <tr>\n",
       "      <th>2</th>\n",
       "      <td>US</td>\n",
       "      <td>If projected  the data must be readable.  On ...</td>\n",
       "    </tr>\n",
       "    <tr>\n",
       "      <th>3</th>\n",
       "      <td>A</td>\n",
       "      <td>The product shall be available during normal ...</td>\n",
       "    </tr>\n",
       "    <tr>\n",
       "      <th>4</th>\n",
       "      <td>US</td>\n",
       "      <td>If projected  the data must be understandable...</td>\n",
       "    </tr>\n",
       "  </tbody>\n",
       "</table>\n",
       "</div>"
      ],
      "text/plain": [
       "  Type                                        Requirement\n",
       "0   PE  The system shall refresh the display every 60 ...\n",
       "1   LF  The application shall match the color of the s...\n",
       "2   US   If projected  the data must be readable.  On ...\n",
       "3    A   The product shall be available during normal ...\n",
       "4   US   If projected  the data must be understandable..."
      ]
     },
     "metadata": {},
     "output_type": "display_data"
    }
   ],
   "source": [
    "# Dataset Preview\n",
    "## Display the first few rows of the dataset\n",
    "print(\"Dataset preview:\")\n",
    "display(df.head())"
   ]
  },
  {
   "cell_type": "markdown",
   "metadata": {},
   "source": [
    "# Missing Values Check\n",
    "Check for any missing values in the dataset using df.isnull().sum()."
   ]
  },
  {
   "cell_type": "code",
   "execution_count": 3,
   "metadata": {},
   "outputs": [
    {
     "name": "stdout",
     "output_type": "stream",
     "text": [
      "\n",
      "Missing values per column:\n",
      "Type           0\n",
      "Requirement    0\n",
      "dtype: int64\n"
     ]
    }
   ],
   "source": [
    "# Missing Values Check\n",
    "## Check for any missing values in the dataset\n",
    "print(\"\\nMissing values per column:\")\n",
    "print(df.isnull().sum())"
   ]
  },
  {
   "cell_type": "markdown",
   "metadata": {},
   "source": [
    "# Dataset Information\n",
    "Display basic information about the dataset using df.info()."
   ]
  },
  {
   "cell_type": "code",
   "execution_count": 4,
   "metadata": {},
   "outputs": [
    {
     "name": "stdout",
     "output_type": "stream",
     "text": [
      "\n",
      "Dataset information:\n",
      "<class 'pandas.core.frame.DataFrame'>\n",
      "RangeIndex: 977 entries, 0 to 976\n",
      "Data columns (total 2 columns):\n",
      " #   Column       Non-Null Count  Dtype \n",
      "---  ------       --------------  ----- \n",
      " 0   Type         977 non-null    object\n",
      " 1   Requirement  977 non-null    object\n",
      "dtypes: object(2)\n",
      "memory usage: 15.4+ KB\n"
     ]
    }
   ],
   "source": [
    "# Dataset Information\n",
    "## Display basic information about the dataset\n",
    "print(\"\\nDataset information:\")\n",
    "df.info()"
   ]
  },
  {
   "cell_type": "markdown",
   "metadata": {},
   "source": [
    "# Unique Requirement Types\n",
    "Check unique types of requirements in the 'Type' column using df['Type'].unique()."
   ]
  },
  {
   "cell_type": "code",
   "execution_count": 5,
   "metadata": {},
   "outputs": [
    {
     "name": "stdout",
     "output_type": "stream",
     "text": [
      "\n",
      "Unique types of requirements:\n",
      "['PE' 'LF' 'US' 'A' 'SE' 'F' 'L' 'O' 'PO' 'SC' 'FT' 'MN' 'FR' 'NFR']\n"
     ]
    }
   ],
   "source": [
    "# Unique Requirement Types\n",
    "## Check unique types of requirements in the 'Type' column\n",
    "print(\"\\nUnique types of requirements:\")\n",
    "print(df['Type'].unique())"
   ]
  },
  {
   "cell_type": "markdown",
   "metadata": {},
   "source": [
    "# Requirement Length Statistics\n",
    "Calculate and display basic statistics about the 'Requirement' column length using df['Requirement'].apply(len) and df['Requirement_length'].describe()."
   ]
  },
  {
   "cell_type": "code",
   "execution_count": 6,
   "metadata": {},
   "outputs": [
    {
     "name": "stdout",
     "output_type": "stream",
     "text": [
      "\n",
      "Requirement length statistics:\n",
      "count     977.000000\n",
      "mean      126.743091\n",
      "std        92.693852\n",
      "min        13.000000\n",
      "25%        75.000000\n",
      "50%       103.000000\n",
      "75%       146.000000\n",
      "max      1118.000000\n",
      "Name: Requirement_length, dtype: float64\n"
     ]
    }
   ],
   "source": [
    "# Requirement Length Statistics\n",
    "## Calculate and display basic statistics about the 'Requirement' column length\n",
    "df['Requirement_length'] = df['Requirement'].apply(len)\n",
    "print(\"\\nRequirement length statistics:\")\n",
    "print(df['Requirement_length'].describe())"
   ]
  },
  {
   "cell_type": "markdown",
   "metadata": {},
   "source": [
    "# Visualization of Requirement Types\n",
    "Visualize the distribution of types of requirements using seaborn's countplot."
   ]
  },
  {
   "cell_type": "code",
   "execution_count": 7,
   "metadata": {},
   "outputs": [
    {
     "data": {
      "image/png": "[encoded data removed]",
      "text/plain": [
       "<Figure size 1200x600 with 1 Axes>"
      ]
     },
     "metadata": {},
     "output_type": "display_data"
    }
   ],
   "source": [
    "import matplotlib.pyplot as plt\n",
    "import seaborn as sns\n",
    "# Visualization of Requirement Types\n",
    "## Visualize the distribution of types of requirements using seaborn's countplot\n",
    "plt.figure(figsize=(12, 6))\n",
    "sns.countplot(data=df, x='Type', order=df['Type'].value_counts().index)\n",
    "plt.title('Distribution of Requirement Types')\n",
    "plt.xticks(rotation=45)\n",
    "plt.show()"
   ]
  },
  {
   "cell_type": "markdown",
   "metadata": {},
   "source": [
    "# Preprocess the data"
   ]
  },
  {
   "cell_type": "code",
   "execution_count": 8,
   "metadata": {},
   "outputs": [
    {
     "name": "stderr",
     "output_type": "stream",
     "text": [
      "[nltk_data] Downloading package punkt to\n",
      "[nltk_data]     C:\\Users\\gdgue\\AppData\\Roaming\\nltk_data...\n",
      "[nltk_data]   Package punkt is already up-to-date!\n",
      "[nltk_data] Downloading package stopwords to\n",
      "[nltk_data]     C:\\Users\\gdgue\\AppData\\Roaming\\nltk_data...\n",
      "[nltk_data]   Package stopwords is already up-to-date!\n",
      "[nltk_data] Downloading package wordnet to\n",
      "[nltk_data]     C:\\Users\\gdgue\\AppData\\Roaming\\nltk_data...\n",
      "[nltk_data]   Package wordnet is already up-to-date!\n"
     ]
    }
   ],
   "source": [
    "import spacy\n",
    "import nltk\n",
    "from nltk.tokenize import word_tokenize\n",
    "from nltk.corpus import stopwords\n",
    "from nltk.stem import WordNetLemmatizer\n",
    "\n",
    "# Download necessary NLTK data\n",
    "nltk.download('punkt')\n",
    "nltk.download('stopwords')\n",
    "nltk.download('wordnet')\n",
    "\n",
    "# Load spaCy model\n",
    "nlp = spacy.load('en_core_web_sm')\n",
    "\n",
    "# Preprocess function\n",
    "def preprocess_text(text):\n",
    "    # Tokenize and remove stopwords using spaCy\n",
    "    doc = nlp(text)\n",
    "    tokens = [token.text for token in doc if not token.is_stop]\n",
    "    # Lemmatize using NLTK\n",
    "    lemmatizer = WordNetLemmatizer()\n",
    "    tokens = [lemmatizer.lemmatize(word) for word in tokens]\n",
    "    return ' '.join(tokens)\n",
    "\n",
    "# Apply preprocessing to the 'Requirement' column\n",
    "df['Processed_Requirement'] = df['Requirement'].apply(preprocess_text)"
   ]
  },
  {
   "cell_type": "markdown",
   "metadata": {},
   "source": [
    "# Convert the text into numerical format"
   ]
  },
  {
   "cell_type": "code",
   "execution_count": 10,
   "metadata": {},
   "outputs": [],
   "source": [
    "from sklearn.feature_extraction.text import CountVectorizer\n",
    "\n",
    "# Vectorize the text data\n",
    "vectorizer = CountVectorizer()\n",
    "X_vectorized = vectorizer.fit_transform(df['Processed_Requirement'])\n",
    "\n",
    "# Convert to PyTorch tensors\n",
    "import torch\n",
    "X_tensor = torch.tensor(X_vectorized.toarray(), dtype=torch.float32)\n",
    "y_tensor = torch.tensor(df['Type'].astype('category').cat.codes.values, dtype=torch.long)"
   ]
  },
  {
   "cell_type": "markdown",
   "metadata": {},
   "source": [
    "# Create the pytorch model to classify the data"
   ]
  },
  {
   "cell_type": "code",
   "execution_count": 11,
   "metadata": {},
   "outputs": [
    {
     "name": "stderr",
     "output_type": "stream",
     "text": [
      "c:\\Users\\gdgue\\Anaconda3\\envs\\personalProjects\\Lib\\site-packages\\tqdm\\auto.py:21: TqdmWarning: IProgress not found. Please update jupyter and ipywidgets. See https://ipywidgets.readthedocs.io/en/stable/user_install.html\n",
      "  from .autonotebook import tqdm as notebook_tqdm\n"
     ]
    }
   ],
   "source": [
    "import torch\n",
    "import torch.nn as nn\n",
    "import torch.optim as optim\n",
    "\n",
    "class EnhancedTextClassificationModel(nn.Module):\n",
    "    def __init__(self, input_dim, hidden_dim, output_dim):\n",
    "        super(EnhancedTextClassificationModel, self).__init__()\n",
    "        self.fc1 = nn.Linear(input_dim, hidden_dim)\n",
    "        self.relu = nn.ReLU()\n",
    "        self.dropout = nn.Dropout(0.3)\n",
    "        self.fc2 = nn.Linear(hidden_dim, output_dim)\n",
    "\n",
    "    def forward(self, x):\n",
    "        x = self.fc1(x)\n",
    "        x = self.relu(x)\n",
    "        x = self.dropout(x)\n",
    "        x = self.fc2(x)\n",
    "        return x\n",
    "\n",
    "# Define model parameters\n",
    "input_dim = X_tensor.shape[1]\n",
    "hidden_dim = 128  # Choose an appropriate hidden dimension size\n",
    "output_dim = len(df['Type'].unique())\n",
    "\n",
    "# Initialize the enhanced model\n",
    "model = EnhancedTextClassificationModel(input_dim, hidden_dim, output_dim)\n",
    "\n",
    "# Define loss and optimizer\n",
    "criterion = nn.CrossEntropyLoss()\n",
    "optimizer = optim.Adam(model.parameters(), lr=0.001)\n"
   ]
  },
  {
   "cell_type": "markdown",
   "metadata": {},
   "source": [
    "# Train the model"
   ]
  },
  {
   "cell_type": "code",
   "execution_count": 12,
   "metadata": {},
   "outputs": [
    {
     "name": "stdout",
     "output_type": "stream",
     "text": [
      "Epoch [1/300], Loss: 2.6733\n",
      "Epoch [2/300], Loss: 2.6497\n",
      "Epoch [3/300], Loss: 2.6263\n",
      "Epoch [4/300], Loss: 2.6044\n",
      "Epoch [5/300], Loss: 2.5803\n",
      "Epoch [6/300], Loss: 2.5584\n",
      "Epoch [7/300], Loss: 2.5341\n",
      "Epoch [8/300], Loss: 2.5076\n",
      "Epoch [9/300], Loss: 2.4817\n",
      "Epoch [10/300], Loss: 2.4552\n",
      "Epoch [11/300], Loss: 2.4229\n",
      "Epoch [12/300], Loss: 2.3909\n",
      "Epoch [13/300], Loss: 2.3554\n",
      "Epoch [14/300], Loss: 2.3199\n",
      "Epoch [15/300], Loss: 2.2801\n",
      "Epoch [16/300], Loss: 2.2450\n",
      "Epoch [17/300], Loss: 2.2035\n",
      "Epoch [18/300], Loss: 2.1591\n",
      "Epoch [19/300], Loss: 2.1199\n",
      "Epoch [20/300], Loss: 2.0769\n",
      "Epoch [21/300], Loss: 2.0337\n",
      "Epoch [22/300], Loss: 1.9879\n",
      "Epoch [23/300], Loss: 1.9459\n",
      "Epoch [24/300], Loss: 1.8947\n",
      "Epoch [25/300], Loss: 1.8501\n",
      "Epoch [26/300], Loss: 1.8069\n",
      "Epoch [27/300], Loss: 1.7633\n",
      "Epoch [28/300], Loss: 1.7163\n",
      "Epoch [29/300], Loss: 1.6629\n",
      "Epoch [30/300], Loss: 1.6194\n",
      "Epoch [31/300], Loss: 1.5724\n",
      "Epoch [32/300], Loss: 1.5286\n",
      "Epoch [33/300], Loss: 1.4828\n",
      "Epoch [34/300], Loss: 1.4465\n",
      "Epoch [35/300], Loss: 1.3967\n",
      "Epoch [36/300], Loss: 1.3617\n",
      "Epoch [37/300], Loss: 1.3209\n",
      "Epoch [38/300], Loss: 1.2813\n",
      "Epoch [39/300], Loss: 1.2491\n",
      "Epoch [40/300], Loss: 1.2003\n",
      "Epoch [41/300], Loss: 1.1618\n",
      "Epoch [42/300], Loss: 1.1266\n",
      "Epoch [43/300], Loss: 1.0944\n",
      "Epoch [44/300], Loss: 1.0640\n",
      "Epoch [45/300], Loss: 1.0265\n",
      "Epoch [46/300], Loss: 0.9911\n",
      "Epoch [47/300], Loss: 0.9657\n",
      "Epoch [48/300], Loss: 0.9337\n",
      "Epoch [49/300], Loss: 0.9001\n",
      "Epoch [50/300], Loss: 0.8653\n",
      "Epoch [51/300], Loss: 0.8496\n",
      "Epoch [52/300], Loss: 0.8201\n",
      "Epoch [53/300], Loss: 0.7922\n",
      "Epoch [54/300], Loss: 0.7743\n",
      "Epoch [55/300], Loss: 0.7473\n",
      "Epoch [56/300], Loss: 0.7187\n",
      "Epoch [57/300], Loss: 0.7012\n",
      "Epoch [58/300], Loss: 0.6727\n",
      "Epoch [59/300], Loss: 0.6504\n",
      "Epoch [60/300], Loss: 0.6309\n",
      "Epoch [61/300], Loss: 0.6212\n",
      "Epoch [62/300], Loss: 0.5928\n",
      "Epoch [63/300], Loss: 0.5814\n",
      "Epoch [64/300], Loss: 0.5642\n",
      "Epoch [65/300], Loss: 0.5435\n",
      "Epoch [66/300], Loss: 0.5317\n",
      "Epoch [67/300], Loss: 0.5163\n",
      "Epoch [68/300], Loss: 0.4982\n",
      "Epoch [69/300], Loss: 0.4805\n",
      "Epoch [70/300], Loss: 0.4662\n",
      "Epoch [71/300], Loss: 0.4482\n",
      "Epoch [72/300], Loss: 0.4357\n",
      "Epoch [73/300], Loss: 0.4206\n",
      "Epoch [74/300], Loss: 0.4135\n",
      "Epoch [75/300], Loss: 0.4055\n",
      "Epoch [76/300], Loss: 0.3895\n",
      "Epoch [77/300], Loss: 0.3736\n",
      "Epoch [78/300], Loss: 0.3723\n",
      "Epoch [79/300], Loss: 0.3588\n",
      "Epoch [80/300], Loss: 0.3446\n",
      "Epoch [81/300], Loss: 0.3430\n",
      "Epoch [82/300], Loss: 0.3246\n",
      "Epoch [83/300], Loss: 0.3207\n",
      "Epoch [84/300], Loss: 0.3083\n",
      "Epoch [85/300], Loss: 0.2990\n",
      "Epoch [86/300], Loss: 0.2905\n",
      "Epoch [87/300], Loss: 0.2775\n",
      "Epoch [88/300], Loss: 0.2710\n",
      "Epoch [89/300], Loss: 0.2695\n",
      "Epoch [90/300], Loss: 0.2614\n",
      "Epoch [91/300], Loss: 0.2550\n",
      "Epoch [92/300], Loss: 0.2496\n",
      "Epoch [93/300], Loss: 0.2413\n",
      "Epoch [94/300], Loss: 0.2361\n",
      "Epoch [95/300], Loss: 0.2334\n",
      "Epoch [96/300], Loss: 0.2250\n",
      "Epoch [97/300], Loss: 0.2212\n",
      "Epoch [98/300], Loss: 0.2143\n",
      "Epoch [99/300], Loss: 0.2130\n",
      "Epoch [100/300], Loss: 0.2002\n",
      "Epoch [101/300], Loss: 0.1933\n",
      "Epoch [102/300], Loss: 0.1939\n",
      "Epoch [103/300], Loss: 0.1868\n",
      "Epoch [104/300], Loss: 0.1817\n",
      "Epoch [105/300], Loss: 0.1800\n",
      "Epoch [106/300], Loss: 0.1791\n",
      "Epoch [107/300], Loss: 0.1736\n",
      "Epoch [108/300], Loss: 0.1679\n",
      "Epoch [109/300], Loss: 0.1637\n",
      "Epoch [110/300], Loss: 0.1684\n",
      "Epoch [111/300], Loss: 0.1575\n",
      "Epoch [112/300], Loss: 0.1538\n",
      "Epoch [113/300], Loss: 0.1442\n",
      "Epoch [114/300], Loss: 0.1448\n",
      "Epoch [115/300], Loss: 0.1424\n",
      "Epoch [116/300], Loss: 0.1406\n",
      "Epoch [117/300], Loss: 0.1406\n",
      "Epoch [118/300], Loss: 0.1328\n",
      "Epoch [119/300], Loss: 0.1339\n",
      "Epoch [120/300], Loss: 0.1263\n",
      "Epoch [121/300], Loss: 0.1248\n",
      "Epoch [122/300], Loss: 0.1278\n",
      "Epoch [123/300], Loss: 0.1206\n",
      "Epoch [124/300], Loss: 0.1188\n",
      "Epoch [125/300], Loss: 0.1156\n",
      "Epoch [126/300], Loss: 0.1171\n",
      "Epoch [127/300], Loss: 0.1122\n",
      "Epoch [128/300], Loss: 0.1074\n",
      "Epoch [129/300], Loss: 0.1084\n",
      "Epoch [130/300], Loss: 0.1056\n",
      "Epoch [131/300], Loss: 0.1019\n",
      "Epoch [132/300], Loss: 0.1012\n",
      "Epoch [133/300], Loss: 0.1006\n",
      "Epoch [134/300], Loss: 0.0997\n",
      "Epoch [135/300], Loss: 0.0985\n",
      "Epoch [136/300], Loss: 0.0981\n",
      "Epoch [137/300], Loss: 0.0962\n",
      "Epoch [138/300], Loss: 0.0922\n",
      "Epoch [139/300], Loss: 0.0931\n",
      "Epoch [140/300], Loss: 0.0876\n",
      "Epoch [141/300], Loss: 0.0862\n",
      "Epoch [142/300], Loss: 0.0858\n",
      "Epoch [143/300], Loss: 0.0853\n",
      "Epoch [144/300], Loss: 0.0841\n",
      "Epoch [145/300], Loss: 0.0820\n",
      "Epoch [146/300], Loss: 0.0805\n",
      "Epoch [147/300], Loss: 0.0826\n",
      "Epoch [148/300], Loss: 0.0756\n",
      "Epoch [149/300], Loss: 0.0766\n",
      "Epoch [150/300], Loss: 0.0765\n",
      "Epoch [151/300], Loss: 0.0723\n",
      "Epoch [152/300], Loss: 0.0704\n",
      "Epoch [153/300], Loss: 0.0708\n",
      "Epoch [154/300], Loss: 0.0725\n",
      "Epoch [155/300], Loss: 0.0704\n",
      "Epoch [156/300], Loss: 0.0692\n",
      "Epoch [157/300], Loss: 0.0684\n",
      "Epoch [158/300], Loss: 0.0675\n",
      "Epoch [159/300], Loss: 0.0649\n",
      "Epoch [160/300], Loss: 0.0647\n",
      "Epoch [161/300], Loss: 0.0633\n",
      "Epoch [162/300], Loss: 0.0644\n",
      "Epoch [163/300], Loss: 0.0599\n",
      "Epoch [164/300], Loss: 0.0639\n",
      "Epoch [165/300], Loss: 0.0601\n",
      "Epoch [166/300], Loss: 0.0607\n",
      "Epoch [167/300], Loss: 0.0599\n",
      "Epoch [168/300], Loss: 0.0574\n",
      "Epoch [169/300], Loss: 0.0577\n",
      "Epoch [170/300], Loss: 0.0604\n",
      "Epoch [171/300], Loss: 0.0556\n",
      "Epoch [172/300], Loss: 0.0542\n",
      "Epoch [173/300], Loss: 0.0545\n",
      "Epoch [174/300], Loss: 0.0529\n",
      "Epoch [175/300], Loss: 0.0508\n",
      "Epoch [176/300], Loss: 0.0507\n",
      "Epoch [177/300], Loss: 0.0513\n",
      "Epoch [178/300], Loss: 0.0519\n",
      "Epoch [179/300], Loss: 0.0500\n",
      "Epoch [180/300], Loss: 0.0483\n",
      "Epoch [181/300], Loss: 0.0497\n",
      "Epoch [182/300], Loss: 0.0459\n",
      "Epoch [183/300], Loss: 0.0483\n",
      "Epoch [184/300], Loss: 0.0478\n",
      "Epoch [185/300], Loss: 0.0460\n",
      "Epoch [186/300], Loss: 0.0459\n",
      "Epoch [187/300], Loss: 0.0441\n",
      "Epoch [188/300], Loss: 0.0447\n",
      "Epoch [189/300], Loss: 0.0450\n",
      "Epoch [190/300], Loss: 0.0422\n",
      "Epoch [191/300], Loss: 0.0427\n",
      "Epoch [192/300], Loss: 0.0448\n",
      "Epoch [193/300], Loss: 0.0410\n",
      "Epoch [194/300], Loss: 0.0423\n",
      "Epoch [195/300], Loss: 0.0414\n",
      "Epoch [196/300], Loss: 0.0412\n",
      "Epoch [197/300], Loss: 0.0376\n",
      "Epoch [198/300], Loss: 0.0406\n",
      "Epoch [199/300], Loss: 0.0408\n",
      "Epoch [200/300], Loss: 0.0407\n",
      "Epoch [201/300], Loss: 0.0371\n",
      "Epoch [202/300], Loss: 0.0358\n",
      "Epoch [203/300], Loss: 0.0361\n",
      "Epoch [204/300], Loss: 0.0362\n",
      "Epoch [205/300], Loss: 0.0367\n",
      "Epoch [206/300], Loss: 0.0396\n",
      "Epoch [207/300], Loss: 0.0344\n",
      "Epoch [208/300], Loss: 0.0329\n",
      "Epoch [209/300], Loss: 0.0355\n",
      "Epoch [210/300], Loss: 0.0356\n",
      "Epoch [211/300], Loss: 0.0336\n",
      "Epoch [212/300], Loss: 0.0339\n",
      "Epoch [213/300], Loss: 0.0347\n",
      "Epoch [214/300], Loss: 0.0334\n",
      "Epoch [215/300], Loss: 0.0355\n",
      "Epoch [216/300], Loss: 0.0318\n",
      "Epoch [217/300], Loss: 0.0305\n",
      "Epoch [218/300], Loss: 0.0334\n",
      "Epoch [219/300], Loss: 0.0317\n",
      "Epoch [220/300], Loss: 0.0305\n",
      "Epoch [221/300], Loss: 0.0330\n",
      "Epoch [222/300], Loss: 0.0286\n",
      "Epoch [223/300], Loss: 0.0294\n",
      "Epoch [224/300], Loss: 0.0295\n",
      "Epoch [225/300], Loss: 0.0302\n",
      "Epoch [226/300], Loss: 0.0272\n",
      "Epoch [227/300], Loss: 0.0286\n",
      "Epoch [228/300], Loss: 0.0282\n",
      "Epoch [229/300], Loss: 0.0282\n",
      "Epoch [230/300], Loss: 0.0275\n",
      "Epoch [231/300], Loss: 0.0290\n",
      "Epoch [232/300], Loss: 0.0267\n",
      "Epoch [233/300], Loss: 0.0268\n",
      "Epoch [234/300], Loss: 0.0270\n",
      "Epoch [235/300], Loss: 0.0258\n",
      "Epoch [236/300], Loss: 0.0269\n",
      "Epoch [237/300], Loss: 0.0256\n",
      "Epoch [238/300], Loss: 0.0256\n",
      "Epoch [239/300], Loss: 0.0241\n",
      "Epoch [240/300], Loss: 0.0259\n",
      "Epoch [241/300], Loss: 0.0253\n",
      "Epoch [242/300], Loss: 0.0252\n",
      "Epoch [243/300], Loss: 0.0258\n",
      "Epoch [244/300], Loss: 0.0253\n",
      "Epoch [245/300], Loss: 0.0239\n",
      "Epoch [246/300], Loss: 0.0245\n",
      "Epoch [247/300], Loss: 0.0225\n",
      "Epoch [248/300], Loss: 0.0247\n",
      "Epoch [249/300], Loss: 0.0247\n",
      "Epoch [250/300], Loss: 0.0216\n",
      "Epoch [251/300], Loss: 0.0216\n",
      "Epoch [252/300], Loss: 0.0234\n",
      "Epoch [253/300], Loss: 0.0247\n",
      "Epoch [254/300], Loss: 0.0232\n",
      "Epoch [255/300], Loss: 0.0216\n",
      "Epoch [256/300], Loss: 0.0222\n",
      "Epoch [257/300], Loss: 0.0240\n",
      "Epoch [258/300], Loss: 0.0211\n",
      "Epoch [259/300], Loss: 0.0213\n",
      "Epoch [260/300], Loss: 0.0221\n",
      "Epoch [261/300], Loss: 0.0219\n",
      "Epoch [262/300], Loss: 0.0221\n",
      "Epoch [263/300], Loss: 0.0201\n",
      "Epoch [264/300], Loss: 0.0214\n",
      "Epoch [265/300], Loss: 0.0214\n",
      "Epoch [266/300], Loss: 0.0212\n",
      "Epoch [267/300], Loss: 0.0200\n",
      "Epoch [268/300], Loss: 0.0190\n",
      "Epoch [269/300], Loss: 0.0202\n",
      "Epoch [270/300], Loss: 0.0193\n",
      "Epoch [271/300], Loss: 0.0182\n",
      "Epoch [272/300], Loss: 0.0191\n",
      "Epoch [273/300], Loss: 0.0192\n",
      "Epoch [274/300], Loss: 0.0194\n",
      "Epoch [275/300], Loss: 0.0180\n",
      "Epoch [276/300], Loss: 0.0203\n",
      "Epoch [277/300], Loss: 0.0192\n",
      "Epoch [278/300], Loss: 0.0179\n",
      "Epoch [279/300], Loss: 0.0187\n",
      "Epoch [280/300], Loss: 0.0187\n",
      "Epoch [281/300], Loss: 0.0183\n",
      "Epoch [282/300], Loss: 0.0173\n",
      "Epoch [283/300], Loss: 0.0175\n",
      "Epoch [284/300], Loss: 0.0183\n",
      "Epoch [285/300], Loss: 0.0174\n",
      "Epoch [286/300], Loss: 0.0179\n",
      "Epoch [287/300], Loss: 0.0167\n",
      "Epoch [288/300], Loss: 0.0167\n",
      "Epoch [289/300], Loss: 0.0175\n",
      "Epoch [290/300], Loss: 0.0171\n",
      "Epoch [291/300], Loss: 0.0168\n",
      "Epoch [292/300], Loss: 0.0173\n",
      "Epoch [293/300], Loss: 0.0177\n",
      "Epoch [294/300], Loss: 0.0181\n",
      "Epoch [295/300], Loss: 0.0159\n",
      "Epoch [296/300], Loss: 0.0166\n",
      "Epoch [297/300], Loss: 0.0165\n",
      "Epoch [298/300], Loss: 0.0158\n",
      "Epoch [299/300], Loss: 0.0170\n",
      "Epoch [300/300], Loss: 0.0159\n"
     ]
    }
   ],
   "source": [
    "from sklearn.model_selection import train_test_split\n",
    "\n",
    "# Split the data into training and testing sets\n",
    "X_train, X_test, y_train, y_test = train_test_split(X_tensor, y_tensor, test_size=0.2, random_state=42)\n",
    "\n",
    "# Define loss function and optimizer\n",
    "criterion = nn.CrossEntropyLoss()\n",
    "optimizer = optim.Adam(model.parameters(), lr=0.001)\n",
    "\n",
    "# Training loop\n",
    "num_epochs = 300\n",
    "for epoch in range(num_epochs):\n",
    "    model.train()\n",
    "    optimizer.zero_grad()\n",
    "    outputs = model(X_train)\n",
    "    loss = criterion(outputs, y_train)\n",
    "    loss.backward()\n",
    "    optimizer.step()\n",
    "    print(f'Epoch [{epoch+1}/{num_epochs}], Loss: {loss.item():.4f}')"
   ]
  },
  {
   "cell_type": "markdown",
   "metadata": {},
   "source": [
    "# Evaluate the model"
   ]
  },
  {
   "cell_type": "code",
   "execution_count": 13,
   "metadata": {},
   "outputs": [
    {
     "name": "stdout",
     "output_type": "stream",
     "text": [
      "Accuracy: 0.7449\n"
     ]
    },
    {
     "data": {
      "image/png": "[encoded data removed]",
      "text/plain": [
       "<Figure size 1000x800 with 2 Axes>"
      ]
     },
     "metadata": {},
     "output_type": "display_data"
    },
    {
     "name": "stdout",
     "output_type": "stream",
     "text": [
      "Accuracy: 0.7449\n"
     ]
    }
   ],
   "source": [
    "from sklearn.metrics import confusion_matrix, accuracy_score\n",
    "import seaborn as sns\n",
    "import matplotlib.pyplot as plt\n",
    "\n",
    "# Generate predictions\n",
    "model.eval()\n",
    "with torch.no_grad():\n",
    "    outputs = model(X_test)\n",
    "    _, predicted = torch.max(outputs, 1)\n",
    "    accuracy = (predicted == y_test).sum().item() / y_test.size(0)\n",
    "    print(f'Accuracy: {accuracy:.4f}')\n",
    "\n",
    "# Convert the predicted tensotr to a numpy array of its classes text\n",
    "predicted = [df['Type'].unique()[i] for i in predicted.numpy()]\n",
    "y_test_label = [df['Type'].unique()[i] for i in y_test.numpy()]\n",
    "# Calculate confusion matrix\n",
    "cm = confusion_matrix(y_test_label, predicted, labels=df['Type'].unique())\n",
    "\n",
    "# Calculate accuracy\n",
    "accuracy = accuracy_score(y_test_label, predicted)\n",
    "\n",
    "# Plot confusion matrix\n",
    "plt.figure(figsize=(10, 8))\n",
    "sns.heatmap(cm, annot=True, fmt='d', cmap='Blues', xticklabels=df['Type'].unique(), yticklabels=df['Type'].unique())\n",
    "plt.xlabel('Predicted')\n",
    "plt.ylabel('Actual')\n",
    "plt.title('Confusion Matrix')\n",
    "plt.show()\n",
    "\n",
    "print(f'Accuracy: {accuracy:.4f}')"
   ]
  },
  {
   "cell_type": "markdown",
   "metadata": {},
   "source": [
    "# Using text embedding into a vectordb and similarity search instead"
   ]
  },
  {
   "cell_type": "code",
   "execution_count": 15,
   "metadata": {},
   "outputs": [
    {
     "name": "stdout",
     "output_type": "stream",
     "text": [
      "Embeddings from the training data added to ChromaDB collection.\n"
     ]
    }
   ],
   "source": [
    "import chromadb\n",
    "from sentence_transformers import SentenceTransformer\n",
    "from nltk.tokenize import word_tokenize\n",
    "from nltk.corpus import stopwords\n",
    "\n",
    "# Initialize stop words\n",
    "stop_words = set(stopwords.words('english'))\n",
    "\n",
    "# Initialize the SentenceTransformer model\n",
    "model = SentenceTransformer('all-MiniLM-L6-v2')\n",
    "\n",
    "# Clean and preprocess the requirements\n",
    "df['Requirement_clean'] = df['Requirement'].apply(lambda x: ' '.join(\n",
    "    [word.lower() for word in word_tokenize(x) if word.lower() not in stop_words and word.isalpha()]))\n",
    "\n",
    "# Split the data into training and testing sets\n",
    "X_train, X_test, y_train, y_test = train_test_split(df['Requirement_clean'], df['Type'], test_size=0.2, random_state=42)\n",
    "\n",
    "# Generate embeddings for each requirement in the training set\n",
    "embeddings = model.encode(X_train.tolist())\n",
    "\n",
    "# Initialize ChromaDB client\n",
    "client = chromadb.Client()\n",
    "\n",
    "collection = client.create_collection(\"requirements_collection\")\n",
    "\n",
    "# Add embeddings and metadata to ChromaDB\n",
    "for idx, (embedding, requirement, req_type) in enumerate(zip(embeddings, X_train, y_train)):\n",
    "    collection.add(\n",
    "        embeddings=[embedding],\n",
    "        metadatas=[{'Type': req_type, 'Requirement': requirement}],\n",
    "        ids=[str(idx)]\n",
    "    )\n",
    "\n",
    "print(\"Embeddings from the training data added to ChromaDB collection.\")"
   ]
  },
  {
   "cell_type": "code",
   "execution_count": 16,
   "metadata": {},
   "outputs": [],
   "source": [
    "def query_requirement_type(text):\n",
    "    \"\"\"Queries ChromaDB for the closest requirement type based on input text.\"\"\"\n",
    "    # Preprocess and embed the input text\n",
    "    cleaned_text = ' '.join([word.lower() for word in word_tokenize(text) if word.lower() not in stop_words and word.isalpha()])\n",
    "    query_embedding = model.encode([cleaned_text])[0]\n",
    "    \n",
    "    # Query ChromaDB for similar requirements\n",
    "    results = collection.query(\n",
    "        query_embeddings=[query_embedding],\n",
    "        n_results=1\n",
    "    )\n",
    "    \n",
    "    # Extract the most similar requirement type and its confidence score\n",
    "    best_match = results['metadatas'][0][0]\n",
    "    predicted_class = best_match['Type']\n",
    "    confidence_score = results['distances'][0][0]  # Lower distance indicates higher similarity\n",
    "    \n",
    "    return predicted_class, 1 - confidence_score  # Adjust to interpret as confidence"
   ]
  },
  {
   "cell_type": "code",
   "execution_count": 17,
   "metadata": {},
   "outputs": [],
   "source": [
    "y_pred = []\n",
    "for text in X_test:\n",
    "    predicted_type, _ = query_requirement_type(text)\n",
    "    y_pred.append(predicted_type)"
   ]
  },
  {
   "cell_type": "code",
   "execution_count": 18,
   "metadata": {},
   "outputs": [
    {
     "data": {
      "image/png": "[encoded data removed]",
      "text/plain": [
       "<Figure size 1000x800 with 2 Axes>"
      ]
     },
     "metadata": {},
     "output_type": "display_data"
    },
    {
     "name": "stdout",
     "output_type": "stream",
     "text": [
      "Accuracy: 0.6633\n"
     ]
    }
   ],
   "source": [
    "from sklearn.metrics import confusion_matrix, accuracy_score\n",
    "import seaborn as sns\n",
    "import matplotlib.pyplot as plt\n",
    "\n",
    "# Calculate confusion matrix\n",
    "cm = confusion_matrix(y_test, y_pred, labels=df['Type'].unique())\n",
    "\n",
    "# Calculate accuracy\n",
    "accuracy = accuracy_score(y_test, y_pred)\n",
    "\n",
    "# Plot confusion matrix\n",
    "plt.figure(figsize=(10, 8))\n",
    "sns.heatmap(cm, annot=True, fmt='d', cmap='Blues', xticklabels=df['Type'].unique(), yticklabels=df['Type'].unique())\n",
    "plt.xlabel('Predicted')\n",
    "plt.ylabel('Actual')\n",
    "plt.title('Confusion Matrix')\n",
    "plt.show()\n",
    "\n",
    "print(f'Accuracy: {accuracy:.4f}')"
   ]
  }
 ],
 "metadata": {
  "kernelspec": {
   "display_name": "personalProjects",
   "language": "python",
   "name": "python3"
  },
  "language_info": {
   "codemirror_mode": {
    "name": "ipython",
    "version": 3
   },
   "file_extension": ".py",
   "mimetype": "text/x-python",
   "name": "python",
   "nbconvert_exporter": "python",
   "pygments_lexer": "ipython3",
   "version": "3.12.0"
  }
 },
 "nbformat": 4,
 "nbformat_minor": 2
}
