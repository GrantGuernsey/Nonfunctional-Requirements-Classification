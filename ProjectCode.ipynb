{
 "cells": [
  {
   "cell_type": "markdown",
   "metadata": {},
   "source": [
    "# Introduction\n",
    "This is a dataset of software non-function requirements for different types of software products"
   ]
  },
  {
   "cell_type": "code",
   "execution_count": 25,
   "metadata": {},
   "outputs": [
    {
     "name": "stdout",
     "output_type": "stream",
     "text": [
      "zsh:1: command not found: kaggle\n",
      "  Type                                        Requirement\n",
      "0   PE  The system shall refresh the display every 60 ...\n",
      "1   LF  The application shall match the color of the s...\n",
      "2   US   If projected  the data must be readable.  On ...\n",
      "3    A   The product shall be available during normal ...\n",
      "4   US   If projected  the data must be understandable...\n"
     ]
    }
   ],
   "source": [
    "import warnings\n",
    "import os\n",
    "import pandas as pd\n",
    "\n",
    "# Set up the directory to save the dataset\n",
    "dataset_dir = './software_requirements_dataset'\n",
    "os.makedirs(dataset_dir, exist_ok=True)\n",
    "\n",
    "# Download the dataset\n",
    "!kaggle datasets download -d iamvaibhav100/software-requirements-dataset -p {dataset_dir} --unzip\n",
    "\n",
    "# Load the CSV file into a DataFrame (assuming the file name is `requirements.csv` or similar)\n",
    "file_path = os.path.join(dataset_dir, 'software_requirements_extended.csv')  # Replace 'requirements.csv' with the actual file name\n",
    "df = pd.read_csv(file_path)\n",
    "\n",
    "# Display the first few rows\n",
    "print(df.head())"
   ]
  },
  {
   "cell_type": "markdown",
   "metadata": {},
   "source": [
    "# Dataset Preview\n",
    "Display the first few rows of the dataset using df.head()."
   ]
  },
  {
   "cell_type": "code",
   "execution_count": 26,
   "metadata": {},
   "outputs": [
    {
     "name": "stdout",
     "output_type": "stream",
     "text": [
      "Dataset preview:\n"
     ]
    },
    {
     "data": {
      "text/html": [
       "<div>\n",
       "<style scoped>\n",
       "    .dataframe tbody tr th:only-of-type {\n",
       "        vertical-align: middle;\n",
       "    }\n",
       "\n",
       "    .dataframe tbody tr th {\n",
       "        vertical-align: top;\n",
       "    }\n",
       "\n",
       "    .dataframe thead th {\n",
       "        text-align: right;\n",
       "    }\n",
       "</style>\n",
       "<table border=\"1\" class=\"dataframe\">\n",
       "  <thead>\n",
       "    <tr style=\"text-align: right;\">\n",
       "      <th></th>\n",
       "      <th>Type</th>\n",
       "      <th>Requirement</th>\n",
       "    </tr>\n",
       "  </thead>\n",
       "  <tbody>\n",
       "    <tr>\n",
       "      <th>0</th>\n",
       "      <td>PE</td>\n",
       "      <td>The system shall refresh the display every 60 ...</td>\n",
       "    </tr>\n",
       "    <tr>\n",
       "      <th>1</th>\n",
       "      <td>LF</td>\n",
       "      <td>The application shall match the color of the s...</td>\n",
       "    </tr>\n",
       "    <tr>\n",
       "      <th>2</th>\n",
       "      <td>US</td>\n",
       "      <td>If projected  the data must be readable.  On ...</td>\n",
       "    </tr>\n",
       "    <tr>\n",
       "      <th>3</th>\n",
       "      <td>A</td>\n",
       "      <td>The product shall be available during normal ...</td>\n",
       "    </tr>\n",
       "    <tr>\n",
       "      <th>4</th>\n",
       "      <td>US</td>\n",
       "      <td>If projected  the data must be understandable...</td>\n",
       "    </tr>\n",
       "  </tbody>\n",
       "</table>\n",
       "</div>"
      ],
      "text/plain": [
       "  Type                                        Requirement\n",
       "0   PE  The system shall refresh the display every 60 ...\n",
       "1   LF  The application shall match the color of the s...\n",
       "2   US   If projected  the data must be readable.  On ...\n",
       "3    A   The product shall be available during normal ...\n",
       "4   US   If projected  the data must be understandable..."
      ]
     },
     "metadata": {},
     "output_type": "display_data"
    }
   ],
   "source": [
    "# Dataset Preview\n",
    "## Display the first few rows of the dataset\n",
    "print(\"Dataset preview:\")\n",
    "display(df.head())"
   ]
  },
  {
   "cell_type": "markdown",
   "metadata": {},
   "source": [
    "# Missing Values Check\n",
    "Check for any missing values in the dataset using df.isnull().sum()."
   ]
  },
  {
   "cell_type": "code",
   "execution_count": 27,
   "metadata": {},
   "outputs": [
    {
     "name": "stdout",
     "output_type": "stream",
     "text": [
      "\n",
      "Missing values per column:\n",
      "Type           0\n",
      "Requirement    0\n",
      "dtype: int64\n"
     ]
    }
   ],
   "source": [
    "# Missing Values Check\n",
    "## Check for any missing values in the dataset\n",
    "print(\"\\nMissing values per column:\")\n",
    "print(df.isnull().sum())"
   ]
  },
  {
   "cell_type": "markdown",
   "metadata": {},
   "source": [
    "# Dataset Information\n",
    "Display basic information about the dataset using df.info()."
   ]
  },
  {
   "cell_type": "code",
   "execution_count": 28,
   "metadata": {},
   "outputs": [
    {
     "name": "stdout",
     "output_type": "stream",
     "text": [
      "\n",
      "Dataset information:\n",
      "<class 'pandas.core.frame.DataFrame'>\n",
      "RangeIndex: 977 entries, 0 to 976\n",
      "Data columns (total 2 columns):\n",
      " #   Column       Non-Null Count  Dtype \n",
      "---  ------       --------------  ----- \n",
      " 0   Type         977 non-null    object\n",
      " 1   Requirement  977 non-null    object\n",
      "dtypes: object(2)\n",
      "memory usage: 15.4+ KB\n"
     ]
    }
   ],
   "source": [
    "# Dataset Information\n",
    "## Display basic information about the dataset\n",
    "print(\"\\nDataset information:\")\n",
    "df.info()"
   ]
  },
  {
   "cell_type": "markdown",
   "metadata": {},
   "source": [
    "# Unique Requirement Types\n",
    "Check unique types of requirements in the 'Type' column using df['Type'].unique()."
   ]
  },
  {
   "cell_type": "code",
   "execution_count": 29,
   "metadata": {},
   "outputs": [
    {
     "name": "stdout",
     "output_type": "stream",
     "text": [
      "\n",
      "Unique types of requirements:\n",
      "['PE' 'LF' 'US' 'A' 'SE' 'F' 'L' 'O' 'PO' 'SC' 'FT' 'MN' 'FR' 'NFR']\n"
     ]
    }
   ],
   "source": [
    "# Unique Requirement Types\n",
    "## Check unique types of requirements in the 'Type' column\n",
    "print(\"\\nUnique types of requirements:\")\n",
    "print(df['Type'].unique())"
   ]
  },
  {
   "cell_type": "markdown",
   "metadata": {},
   "source": [
    "# Requirement Length Statistics\n",
    "Calculate and display basic statistics about the 'Requirement' column length using df['Requirement'].apply(len) and df['Requirement_length'].describe()."
   ]
  },
  {
   "cell_type": "code",
   "execution_count": 30,
   "metadata": {},
   "outputs": [
    {
     "name": "stdout",
     "output_type": "stream",
     "text": [
      "\n",
      "Requirement length statistics:\n",
      "count     977.000000\n",
      "mean      126.743091\n",
      "std        92.693852\n",
      "min        13.000000\n",
      "25%        75.000000\n",
      "50%       103.000000\n",
      "75%       146.000000\n",
      "max      1118.000000\n",
      "Name: Requirement_length, dtype: float64\n"
     ]
    }
   ],
   "source": [
    "# Requirement Length Statistics\n",
    "## Calculate and display basic statistics about the 'Requirement' column length\n",
    "df['Requirement_length'] = df['Requirement'].apply(len)\n",
    "print(\"\\nRequirement length statistics:\")\n",
    "print(df['Requirement_length'].describe())"
   ]
  },
  {
   "cell_type": "markdown",
   "metadata": {},
   "source": [
    "# Visualization of Requirement Types\n",
    "Visualize the distribution of types of requirements using seaborn's countplot."
   ]
  },
  {
   "cell_type": "code",
   "execution_count": 31,
   "metadata": {},
   "outputs": [
    {
     "data": {
      "image/png": "[encoded data removed]",
      "text/plain": [
       "<Figure size 1200x600 with 1 Axes>"
      ]
     },
     "metadata": {},
     "output_type": "display_data"
    }
   ],
   "source": [
    "import matplotlib.pyplot as plt\n",
    "import seaborn as sns\n",
    "# Visualization of Requirement Types\n",
    "## Visualize the distribution of types of requirements using seaborn's countplot\n",
    "plt.figure(figsize=(12, 6))\n",
    "sns.countplot(data=df, x='Type', order=df['Type'].value_counts().index)\n",
    "plt.title('Distribution of Requirement Types')\n",
    "plt.xticks(rotation=45)\n",
    "plt.show()"
   ]
  },
  {
   "cell_type": "markdown",
   "metadata": {},
   "source": [
    "# Preprocess the data"
   ]
  },
  {
   "cell_type": "code",
   "execution_count": 32,
   "metadata": {},
   "outputs": [
    {
     "name": "stderr",
     "output_type": "stream",
     "text": [
      "[nltk_data] Downloading package punkt to\n",
      "[nltk_data]     /Users/grantguernsey/nltk_data...\n",
      "[nltk_data]   Package punkt is already up-to-date!\n",
      "[nltk_data] Downloading package stopwords to\n",
      "[nltk_data]     /Users/grantguernsey/nltk_data...\n",
      "[nltk_data]   Package stopwords is already up-to-date!\n",
      "[nltk_data] Downloading package wordnet to\n",
      "[nltk_data]     /Users/grantguernsey/nltk_data...\n",
      "[nltk_data]   Package wordnet is already up-to-date!\n"
     ]
    }
   ],
   "source": [
    "import spacy\n",
    "import nltk\n",
    "from nltk.tokenize import word_tokenize\n",
    "from nltk.corpus import stopwords\n",
    "from nltk.stem import WordNetLemmatizer\n",
    "\n",
    "# Download necessary NLTK data\n",
    "nltk.download('punkt')\n",
    "nltk.download('stopwords')\n",
    "nltk.download('wordnet')\n",
    "\n",
    "# Load spaCy model\n",
    "nlp = spacy.load('en_core_web_sm')\n",
    "\n",
    "# Preprocess function\n",
    "def preprocess_text(text):\n",
    "    # Tokenize and remove stopwords using spaCy\n",
    "    doc = nlp(text)\n",
    "    tokens = [token.text for token in doc if not token.is_stop]\n",
    "    # Lemmatize using NLTK\n",
    "    lemmatizer = WordNetLemmatizer()\n",
    "    tokens = [lemmatizer.lemmatize(word) for word in tokens]\n",
    "    return ' '.join(tokens)\n",
    "\n",
    "# Apply preprocessing to the 'Requirement' column\n",
    "df['Processed_Requirement'] = df['Requirement'].apply(preprocess_text)"
   ]
  },
  {
   "cell_type": "code",
   "execution_count": 33,
   "metadata": {},
   "outputs": [],
   "source": [
    "from sklearn.preprocessing import LabelEncoder\n",
    "\n",
    "# Encode the labels using LabelEncoder\n",
    "label_encoder = LabelEncoder()\n",
    "df['Type_Encoded'] = label_encoder.fit_transform(df['Type'])\n"
   ]
  },
  {
   "cell_type": "markdown",
   "metadata": {},
   "source": [
    "# Convert the text into numerical format"
   ]
  },
  {
   "cell_type": "code",
   "execution_count": 34,
   "metadata": {},
   "outputs": [],
   "source": [
    "from sklearn.feature_extraction.text import CountVectorizer\n",
    "\n",
    "# Vectorize the text data\n",
    "vectorizer = CountVectorizer()\n",
    "X_vectorized = vectorizer.fit_transform(df['Processed_Requirement'])\n",
    "\n",
    "# Convert to PyTorch tensors\n",
    "import torch\n",
    "X_tensor = torch.tensor(X_vectorized.toarray(), dtype=torch.float32)\n",
    "y_tensor = torch.tensor(df['Type_Encoded'].values, dtype=torch.long)"
   ]
  },
  {
   "cell_type": "markdown",
   "metadata": {},
   "source": [
    "# Create the pytorch model to classify the data"
   ]
  },
  {
   "cell_type": "code",
   "execution_count": 35,
   "metadata": {},
   "outputs": [],
   "source": [
    "import torch\n",
    "import torch.nn as nn\n",
    "import torch.optim as optim\n",
    "\n",
    "class EnhancedTextClassificationModel(nn.Module):\n",
    "    def __init__(self, input_dim, hidden_dim, output_dim):\n",
    "        super(EnhancedTextClassificationModel, self).__init__()\n",
    "        self.fc1 = nn.Linear(input_dim, hidden_dim)\n",
    "        self.relu = nn.ReLU()\n",
    "        self.dropout = nn.Dropout(0.3)\n",
    "        self.fc2 = nn.Linear(hidden_dim, output_dim)\n",
    "\n",
    "    def forward(self, x):\n",
    "        x = self.fc1(x)\n",
    "        x = self.relu(x)\n",
    "        x = self.dropout(x)\n",
    "        x = self.fc2(x)\n",
    "        return x\n",
    "\n",
    "# Define model parameters\n",
    "input_dim = X_tensor.shape[1]\n",
    "hidden_dim = 128  # Choose an appropriate hidden dimension size\n",
    "output_dim = len(df['Type'].unique())\n",
    "\n",
    "# Initialize the enhanced model\n",
    "model = EnhancedTextClassificationModel(input_dim, hidden_dim, output_dim)\n",
    "\n",
    "# Define loss and optimizer\n",
    "criterion = nn.CrossEntropyLoss()\n",
    "optimizer = optim.Adam(model.parameters(), lr=0.001)\n"
   ]
  },
  {
   "cell_type": "markdown",
   "metadata": {},
   "source": [
    "# Train the model"
   ]
  },
  {
   "cell_type": "code",
   "execution_count": 36,
   "metadata": {},
   "outputs": [
    {
     "name": "stdout",
     "output_type": "stream",
     "text": [
      "Epoch [1/300], Loss: 2.6269\n",
      "Epoch [2/300], Loss: 2.6026\n",
      "Epoch [3/300], Loss: 2.5797\n",
      "Epoch [4/300], Loss: 2.5544\n",
      "Epoch [5/300], Loss: 2.5309\n",
      "Epoch [6/300], Loss: 2.5061\n",
      "Epoch [7/300], Loss: 2.4787\n",
      "Epoch [8/300], Loss: 2.4482\n",
      "Epoch [9/300], Loss: 2.4166\n",
      "Epoch [10/300], Loss: 2.3829\n",
      "Epoch [11/300], Loss: 2.3497\n",
      "Epoch [12/300], Loss: 2.3143\n",
      "Epoch [13/300], Loss: 2.2780\n",
      "Epoch [14/300], Loss: 2.2358\n",
      "Epoch [15/300], Loss: 2.1949\n",
      "Epoch [16/300], Loss: 2.1529\n",
      "Epoch [17/300], Loss: 2.1135\n",
      "Epoch [18/300], Loss: 2.0667\n",
      "Epoch [19/300], Loss: 2.0255\n",
      "Epoch [20/300], Loss: 1.9814\n",
      "Epoch [21/300], Loss: 1.9359\n",
      "Epoch [22/300], Loss: 1.8833\n",
      "Epoch [23/300], Loss: 1.8441\n",
      "Epoch [24/300], Loss: 1.7964\n",
      "Epoch [25/300], Loss: 1.7502\n",
      "Epoch [26/300], Loss: 1.7130\n",
      "Epoch [27/300], Loss: 1.6577\n",
      "Epoch [28/300], Loss: 1.6177\n",
      "Epoch [29/300], Loss: 1.5745\n",
      "Epoch [30/300], Loss: 1.5322\n",
      "Epoch [31/300], Loss: 1.4902\n",
      "Epoch [32/300], Loss: 1.4461\n",
      "Epoch [33/300], Loss: 1.4063\n",
      "Epoch [34/300], Loss: 1.3614\n",
      "Epoch [35/300], Loss: 1.3272\n",
      "Epoch [36/300], Loss: 1.2882\n",
      "Epoch [37/300], Loss: 1.2542\n",
      "Epoch [38/300], Loss: 1.2190\n",
      "Epoch [39/300], Loss: 1.1821\n",
      "Epoch [40/300], Loss: 1.1459\n",
      "Epoch [41/300], Loss: 1.1126\n",
      "Epoch [42/300], Loss: 1.0758\n",
      "Epoch [43/300], Loss: 1.0517\n",
      "Epoch [44/300], Loss: 1.0190\n",
      "Epoch [45/300], Loss: 0.9952\n",
      "Epoch [46/300], Loss: 0.9598\n",
      "Epoch [47/300], Loss: 0.9327\n",
      "Epoch [48/300], Loss: 0.9070\n",
      "Epoch [49/300], Loss: 0.8786\n",
      "Epoch [50/300], Loss: 0.8475\n",
      "Epoch [51/300], Loss: 0.8299\n",
      "Epoch [52/300], Loss: 0.8022\n",
      "Epoch [53/300], Loss: 0.7764\n",
      "Epoch [54/300], Loss: 0.7550\n",
      "Epoch [55/300], Loss: 0.7382\n",
      "Epoch [56/300], Loss: 0.7149\n",
      "Epoch [57/300], Loss: 0.6926\n",
      "Epoch [58/300], Loss: 0.6774\n",
      "Epoch [59/300], Loss: 0.6551\n",
      "Epoch [60/300], Loss: 0.6366\n",
      "Epoch [61/300], Loss: 0.6196\n",
      "Epoch [62/300], Loss: 0.5964\n",
      "Epoch [63/300], Loss: 0.5794\n",
      "Epoch [64/300], Loss: 0.5675\n",
      "Epoch [65/300], Loss: 0.5474\n",
      "Epoch [66/300], Loss: 0.5288\n",
      "Epoch [67/300], Loss: 0.5115\n",
      "Epoch [68/300], Loss: 0.5006\n",
      "Epoch [69/300], Loss: 0.4851\n",
      "Epoch [70/300], Loss: 0.4759\n",
      "Epoch [71/300], Loss: 0.4561\n",
      "Epoch [72/300], Loss: 0.4500\n",
      "Epoch [73/300], Loss: 0.4360\n",
      "Epoch [74/300], Loss: 0.4212\n",
      "Epoch [75/300], Loss: 0.4082\n",
      "Epoch [76/300], Loss: 0.3978\n",
      "Epoch [77/300], Loss: 0.3834\n",
      "Epoch [78/300], Loss: 0.3777\n",
      "Epoch [79/300], Loss: 0.3646\n",
      "Epoch [80/300], Loss: 0.3499\n",
      "Epoch [81/300], Loss: 0.3469\n",
      "Epoch [82/300], Loss: 0.3382\n",
      "Epoch [83/300], Loss: 0.3318\n",
      "Epoch [84/300], Loss: 0.3157\n",
      "Epoch [85/300], Loss: 0.3077\n",
      "Epoch [86/300], Loss: 0.2974\n",
      "Epoch [87/300], Loss: 0.2896\n",
      "Epoch [88/300], Loss: 0.2842\n",
      "Epoch [89/300], Loss: 0.2803\n",
      "Epoch [90/300], Loss: 0.2697\n",
      "Epoch [91/300], Loss: 0.2580\n",
      "Epoch [92/300], Loss: 0.2583\n",
      "Epoch [93/300], Loss: 0.2500\n",
      "Epoch [94/300], Loss: 0.2465\n",
      "Epoch [95/300], Loss: 0.2385\n",
      "Epoch [96/300], Loss: 0.2317\n",
      "Epoch [97/300], Loss: 0.2281\n",
      "Epoch [98/300], Loss: 0.2203\n",
      "Epoch [99/300], Loss: 0.2210\n",
      "Epoch [100/300], Loss: 0.2090\n",
      "Epoch [101/300], Loss: 0.2055\n",
      "Epoch [102/300], Loss: 0.2026\n",
      "Epoch [103/300], Loss: 0.1954\n",
      "Epoch [104/300], Loss: 0.1959\n",
      "Epoch [105/300], Loss: 0.1870\n",
      "Epoch [106/300], Loss: 0.1807\n",
      "Epoch [107/300], Loss: 0.1774\n",
      "Epoch [108/300], Loss: 0.1731\n",
      "Epoch [109/300], Loss: 0.1755\n",
      "Epoch [110/300], Loss: 0.1688\n",
      "Epoch [111/300], Loss: 0.1655\n",
      "Epoch [112/300], Loss: 0.1586\n",
      "Epoch [113/300], Loss: 0.1578\n",
      "Epoch [114/300], Loss: 0.1544\n",
      "Epoch [115/300], Loss: 0.1511\n",
      "Epoch [116/300], Loss: 0.1481\n",
      "Epoch [117/300], Loss: 0.1488\n",
      "Epoch [118/300], Loss: 0.1381\n",
      "Epoch [119/300], Loss: 0.1398\n",
      "Epoch [120/300], Loss: 0.1347\n",
      "Epoch [121/300], Loss: 0.1307\n",
      "Epoch [122/300], Loss: 0.1322\n",
      "Epoch [123/300], Loss: 0.1270\n",
      "Epoch [124/300], Loss: 0.1312\n",
      "Epoch [125/300], Loss: 0.1225\n",
      "Epoch [126/300], Loss: 0.1194\n",
      "Epoch [127/300], Loss: 0.1189\n",
      "Epoch [128/300], Loss: 0.1148\n",
      "Epoch [129/300], Loss: 0.1140\n",
      "Epoch [130/300], Loss: 0.1098\n",
      "Epoch [131/300], Loss: 0.1085\n",
      "Epoch [132/300], Loss: 0.1079\n",
      "Epoch [133/300], Loss: 0.1027\n",
      "Epoch [134/300], Loss: 0.1043\n",
      "Epoch [135/300], Loss: 0.1027\n",
      "Epoch [136/300], Loss: 0.1009\n",
      "Epoch [137/300], Loss: 0.0970\n",
      "Epoch [138/300], Loss: 0.0956\n",
      "Epoch [139/300], Loss: 0.0961\n",
      "Epoch [140/300], Loss: 0.0950\n",
      "Epoch [141/300], Loss: 0.0899\n",
      "Epoch [142/300], Loss: 0.0906\n",
      "Epoch [143/300], Loss: 0.0888\n",
      "Epoch [144/300], Loss: 0.0840\n",
      "Epoch [145/300], Loss: 0.0858\n",
      "Epoch [146/300], Loss: 0.0859\n",
      "Epoch [147/300], Loss: 0.0844\n",
      "Epoch [148/300], Loss: 0.0796\n",
      "Epoch [149/300], Loss: 0.0829\n",
      "Epoch [150/300], Loss: 0.0799\n",
      "Epoch [151/300], Loss: 0.0766\n",
      "Epoch [152/300], Loss: 0.0767\n",
      "Epoch [153/300], Loss: 0.0759\n",
      "Epoch [154/300], Loss: 0.0737\n",
      "Epoch [155/300], Loss: 0.0729\n",
      "Epoch [156/300], Loss: 0.0712\n",
      "Epoch [157/300], Loss: 0.0718\n",
      "Epoch [158/300], Loss: 0.0705\n",
      "Epoch [159/300], Loss: 0.0661\n",
      "Epoch [160/300], Loss: 0.0698\n",
      "Epoch [161/300], Loss: 0.0656\n",
      "Epoch [162/300], Loss: 0.0652\n",
      "Epoch [163/300], Loss: 0.0630\n",
      "Epoch [164/300], Loss: 0.0630\n",
      "Epoch [165/300], Loss: 0.0612\n",
      "Epoch [166/300], Loss: 0.0621\n",
      "Epoch [167/300], Loss: 0.0617\n",
      "Epoch [168/300], Loss: 0.0603\n",
      "Epoch [169/300], Loss: 0.0576\n",
      "Epoch [170/300], Loss: 0.0602\n",
      "Epoch [171/300], Loss: 0.0597\n",
      "Epoch [172/300], Loss: 0.0565\n",
      "Epoch [173/300], Loss: 0.0532\n",
      "Epoch [174/300], Loss: 0.0566\n",
      "Epoch [175/300], Loss: 0.0550\n",
      "Epoch [176/300], Loss: 0.0528\n",
      "Epoch [177/300], Loss: 0.0507\n",
      "Epoch [178/300], Loss: 0.0552\n",
      "Epoch [179/300], Loss: 0.0525\n",
      "Epoch [180/300], Loss: 0.0520\n",
      "Epoch [181/300], Loss: 0.0505\n",
      "Epoch [182/300], Loss: 0.0509\n",
      "Epoch [183/300], Loss: 0.0505\n",
      "Epoch [184/300], Loss: 0.0500\n",
      "Epoch [185/300], Loss: 0.0466\n",
      "Epoch [186/300], Loss: 0.0478\n",
      "Epoch [187/300], Loss: 0.0485\n",
      "Epoch [188/300], Loss: 0.0462\n",
      "Epoch [189/300], Loss: 0.0456\n",
      "Epoch [190/300], Loss: 0.0443\n",
      "Epoch [191/300], Loss: 0.0443\n",
      "Epoch [192/300], Loss: 0.0427\n",
      "Epoch [193/300], Loss: 0.0434\n",
      "Epoch [194/300], Loss: 0.0426\n",
      "Epoch [195/300], Loss: 0.0413\n",
      "Epoch [196/300], Loss: 0.0413\n",
      "Epoch [197/300], Loss: 0.0417\n",
      "Epoch [198/300], Loss: 0.0407\n",
      "Epoch [199/300], Loss: 0.0390\n",
      "Epoch [200/300], Loss: 0.0391\n",
      "Epoch [201/300], Loss: 0.0403\n",
      "Epoch [202/300], Loss: 0.0395\n",
      "Epoch [203/300], Loss: 0.0377\n",
      "Epoch [204/300], Loss: 0.0376\n",
      "Epoch [205/300], Loss: 0.0369\n",
      "Epoch [206/300], Loss: 0.0378\n",
      "Epoch [207/300], Loss: 0.0351\n",
      "Epoch [208/300], Loss: 0.0368\n",
      "Epoch [209/300], Loss: 0.0340\n",
      "Epoch [210/300], Loss: 0.0369\n",
      "Epoch [211/300], Loss: 0.0365\n",
      "Epoch [212/300], Loss: 0.0365\n",
      "Epoch [213/300], Loss: 0.0348\n",
      "Epoch [214/300], Loss: 0.0347\n",
      "Epoch [215/300], Loss: 0.0332\n",
      "Epoch [216/300], Loss: 0.0345\n",
      "Epoch [217/300], Loss: 0.0314\n",
      "Epoch [218/300], Loss: 0.0338\n",
      "Epoch [219/300], Loss: 0.0321\n",
      "Epoch [220/300], Loss: 0.0315\n",
      "Epoch [221/300], Loss: 0.0312\n",
      "Epoch [222/300], Loss: 0.0321\n",
      "Epoch [223/300], Loss: 0.0291\n",
      "Epoch [224/300], Loss: 0.0307\n",
      "Epoch [225/300], Loss: 0.0316\n",
      "Epoch [226/300], Loss: 0.0295\n",
      "Epoch [227/300], Loss: 0.0312\n",
      "Epoch [228/300], Loss: 0.0298\n",
      "Epoch [229/300], Loss: 0.0309\n",
      "Epoch [230/300], Loss: 0.0299\n",
      "Epoch [231/300], Loss: 0.0289\n",
      "Epoch [232/300], Loss: 0.0275\n",
      "Epoch [233/300], Loss: 0.0273\n",
      "Epoch [234/300], Loss: 0.0304\n",
      "Epoch [235/300], Loss: 0.0295\n",
      "Epoch [236/300], Loss: 0.0268\n",
      "Epoch [237/300], Loss: 0.0267\n",
      "Epoch [238/300], Loss: 0.0276\n",
      "Epoch [239/300], Loss: 0.0270\n",
      "Epoch [240/300], Loss: 0.0257\n",
      "Epoch [241/300], Loss: 0.0255\n",
      "Epoch [242/300], Loss: 0.0265\n",
      "Epoch [243/300], Loss: 0.0257\n",
      "Epoch [244/300], Loss: 0.0251\n",
      "Epoch [245/300], Loss: 0.0240\n",
      "Epoch [246/300], Loss: 0.0252\n",
      "Epoch [247/300], Loss: 0.0262\n",
      "Epoch [248/300], Loss: 0.0247\n",
      "Epoch [249/300], Loss: 0.0227\n",
      "Epoch [250/300], Loss: 0.0245\n",
      "Epoch [251/300], Loss: 0.0230\n",
      "Epoch [252/300], Loss: 0.0225\n",
      "Epoch [253/300], Loss: 0.0232\n",
      "Epoch [254/300], Loss: 0.0222\n",
      "Epoch [255/300], Loss: 0.0233\n",
      "Epoch [256/300], Loss: 0.0230\n",
      "Epoch [257/300], Loss: 0.0231\n",
      "Epoch [258/300], Loss: 0.0220\n",
      "Epoch [259/300], Loss: 0.0225\n",
      "Epoch [260/300], Loss: 0.0214\n",
      "Epoch [261/300], Loss: 0.0210\n",
      "Epoch [262/300], Loss: 0.0215\n",
      "Epoch [263/300], Loss: 0.0218\n",
      "Epoch [264/300], Loss: 0.0218\n",
      "Epoch [265/300], Loss: 0.0215\n",
      "Epoch [266/300], Loss: 0.0224\n",
      "Epoch [267/300], Loss: 0.0202\n",
      "Epoch [268/300], Loss: 0.0222\n",
      "Epoch [269/300], Loss: 0.0197\n",
      "Epoch [270/300], Loss: 0.0211\n",
      "Epoch [271/300], Loss: 0.0217\n",
      "Epoch [272/300], Loss: 0.0203\n",
      "Epoch [273/300], Loss: 0.0198\n",
      "Epoch [274/300], Loss: 0.0191\n",
      "Epoch [275/300], Loss: 0.0185\n",
      "Epoch [276/300], Loss: 0.0196\n",
      "Epoch [277/300], Loss: 0.0196\n",
      "Epoch [278/300], Loss: 0.0186\n",
      "Epoch [279/300], Loss: 0.0181\n",
      "Epoch [280/300], Loss: 0.0181\n",
      "Epoch [281/300], Loss: 0.0191\n",
      "Epoch [282/300], Loss: 0.0187\n",
      "Epoch [283/300], Loss: 0.0189\n",
      "Epoch [284/300], Loss: 0.0195\n",
      "Epoch [285/300], Loss: 0.0183\n",
      "Epoch [286/300], Loss: 0.0186\n",
      "Epoch [287/300], Loss: 0.0184\n",
      "Epoch [288/300], Loss: 0.0185\n",
      "Epoch [289/300], Loss: 0.0167\n",
      "Epoch [290/300], Loss: 0.0189\n",
      "Epoch [291/300], Loss: 0.0174\n",
      "Epoch [292/300], Loss: 0.0179\n",
      "Epoch [293/300], Loss: 0.0167\n",
      "Epoch [294/300], Loss: 0.0172\n",
      "Epoch [295/300], Loss: 0.0179\n",
      "Epoch [296/300], Loss: 0.0184\n",
      "Epoch [297/300], Loss: 0.0168\n",
      "Epoch [298/300], Loss: 0.0174\n",
      "Epoch [299/300], Loss: 0.0164\n",
      "Epoch [300/300], Loss: 0.0174\n"
     ]
    }
   ],
   "source": [
    "from sklearn.model_selection import train_test_split\n",
    "\n",
    "# Split the data into training and testing sets\n",
    "X_train, X_test, y_train, y_test = train_test_split(X_tensor, y_tensor, test_size=0.2, random_state=42)\n",
    "\n",
    "# Define loss function and optimizer\n",
    "criterion = nn.CrossEntropyLoss()\n",
    "optimizer = optim.Adam(model.parameters(), lr=0.001)\n",
    "\n",
    "# Training loop\n",
    "num_epochs = 300\n",
    "for epoch in range(num_epochs):\n",
    "    model.train()\n",
    "    optimizer.zero_grad()\n",
    "    outputs = model(X_train)\n",
    "    loss = criterion(outputs, y_train)\n",
    "    loss.backward()\n",
    "    optimizer.step()\n",
    "    print(f'Epoch [{epoch+1}/{num_epochs}], Loss: {loss.item():.4f}')"
   ]
  },
  {
   "cell_type": "markdown",
   "metadata": {},
   "source": [
    "# Evaluate the model"
   ]
  },
  {
   "cell_type": "code",
   "execution_count": 38,
   "metadata": {},
   "outputs": [
    {
     "name": "stdout",
     "output_type": "stream",
     "text": [
      "Accuracy: 0.7296\n"
     ]
    },
    {
     "data": {
      "image/png": "[encoded data removed]",
      "text/plain": [
       "<Figure size 1000x800 with 2 Axes>"
      ]
     },
     "metadata": {},
     "output_type": "display_data"
    },
    {
     "name": "stdout",
     "output_type": "stream",
     "text": [
      "Accuracy: 0.7296\n"
     ]
    }
   ],
   "source": [
    "from sklearn.metrics import confusion_matrix, accuracy_score\n",
    "import seaborn as sns\n",
    "import matplotlib.pyplot as plt\n",
    "\n",
    "# Generate predictions\n",
    "model.eval()\n",
    "with torch.no_grad():\n",
    "    outputs = model(X_test)\n",
    "    _, predicted = torch.max(outputs, 1)\n",
    "    accuracy = (predicted == y_test).sum().item() / y_test.size(0)\n",
    "    print(f'Accuracy: {accuracy:.4f}')\n",
    "\n",
    "# Map predictions and actual values back to their original labels\n",
    "predicted_labels = label_encoder.inverse_transform(predicted.numpy())\n",
    "y_test_labels = label_encoder.inverse_transform(y_test.numpy())\n",
    "\n",
    "# Calculate confusion matrix\n",
    "cm = confusion_matrix(y_test_labels, predicted_labels, labels=df['Type'].unique())\n",
    "\n",
    "# Calculate accuracy\n",
    "accuracy = accuracy_score(y_test_labels, predicted_labels)\n",
    "\n",
    "# Plot confusion matrix\n",
    "plt.figure(figsize=(10, 8))\n",
    "sns.heatmap(cm, annot=True, fmt='d', cmap='Blues', xticklabels=df['Type'].unique(), yticklabels=df['Type'].unique())\n",
    "plt.xlabel('Predicted')\n",
    "plt.ylabel('Actual')\n",
    "plt.title('Confusion Matrix')\n",
    "plt.show()\n",
    "\n",
    "print(f'Accuracy: {accuracy:.4f}')"
   ]
  },
  {
   "cell_type": "markdown",
   "metadata": {},
   "source": [
    "# Using text embedding into a vectordb and similarity search instead"
   ]
  },
  {
   "cell_type": "code",
   "execution_count": 15,
   "metadata": {},
   "outputs": [
    {
     "name": "stdout",
     "output_type": "stream",
     "text": [
      "Embeddings from the training data added to ChromaDB collection.\n"
     ]
    }
   ],
   "source": [
    "import chromadb\n",
    "from sentence_transformers import SentenceTransformer\n",
    "from nltk.tokenize import word_tokenize\n",
    "from nltk.corpus import stopwords\n",
    "\n",
    "# Initialize stop words\n",
    "stop_words = set(stopwords.words('english'))\n",
    "\n",
    "# Initialize the SentenceTransformer model\n",
    "model = SentenceTransformer('all-MiniLM-L6-v2')\n",
    "\n",
    "# Clean and preprocess the requirements\n",
    "df['Requirement_clean'] = df['Requirement'].apply(lambda x: ' '.join(\n",
    "    [word.lower() for word in word_tokenize(x) if word.lower() not in stop_words and word.isalpha()]))\n",
    "\n",
    "# Split the data into training and testing sets\n",
    "X_train, X_test, y_train, y_test = train_test_split(df['Requirement_clean'], df['Type'], test_size=0.2, random_state=42)\n",
    "\n",
    "# Generate embeddings for each requirement in the training set\n",
    "embeddings = model.encode(X_train.tolist())\n",
    "\n",
    "# Initialize ChromaDB client\n",
    "client = chromadb.Client()\n",
    "\n",
    "collection = client.create_collection(\"requirements_collection\")\n",
    "\n",
    "# Add embeddings and metadata to ChromaDB\n",
    "for idx, (embedding, requirement, req_type) in enumerate(zip(embeddings, X_train, y_train)):\n",
    "    collection.add(\n",
    "        embeddings=[embedding],\n",
    "        metadatas=[{'Type': req_type, 'Requirement': requirement}],\n",
    "        ids=[str(idx)]\n",
    "    )\n",
    "\n",
    "print(\"Embeddings from the training data added to ChromaDB collection.\")"
   ]
  },
  {
   "cell_type": "code",
   "execution_count": 16,
   "metadata": {},
   "outputs": [],
   "source": [
    "def query_requirement_type(text):\n",
    "    \"\"\"Queries ChromaDB for the closest requirement type based on input text.\"\"\"\n",
    "    # Preprocess and embed the input text\n",
    "    cleaned_text = ' '.join([word.lower() for word in word_tokenize(text) if word.lower() not in stop_words and word.isalpha()])\n",
    "    query_embedding = model.encode([cleaned_text])[0]\n",
    "    \n",
    "    # Query ChromaDB for similar requirements\n",
    "    results = collection.query(\n",
    "        query_embeddings=[query_embedding],\n",
    "        n_results=1\n",
    "    )\n",
    "    \n",
    "    # Extract the most similar requirement type and its confidence score\n",
    "    best_match = results['metadatas'][0][0]\n",
    "    predicted_class = best_match['Type']\n",
    "    confidence_score = results['distances'][0][0]  # Lower distance indicates higher similarity\n",
    "    \n",
    "    return predicted_class, 1 - confidence_score  # Adjust to interpret as confidence"
   ]
  },
  {
   "cell_type": "code",
   "execution_count": 17,
   "metadata": {},
   "outputs": [],
   "source": [
    "y_pred = []\n",
    "for text in X_test:\n",
    "    predicted_type, _ = query_requirement_type(text)\n",
    "    y_pred.append(predicted_type)"
   ]
  },
  {
   "cell_type": "code",
   "execution_count": 18,
   "metadata": {},
   "outputs": [
    {
     "data": {
      "image/png": "[encoded data removed]",
      "text/plain": [
       "<Figure size 1000x800 with 2 Axes>"
      ]
     },
     "metadata": {},
     "output_type": "display_data"
    },
    {
     "name": "stdout",
     "output_type": "stream",
     "text": [
      "Accuracy: 0.6633\n"
     ]
    }
   ],
   "source": [
    "from sklearn.metrics import confusion_matrix, accuracy_score\n",
    "import seaborn as sns\n",
    "import matplotlib.pyplot as plt\n",
    "\n",
    "# Calculate confusion matrix\n",
    "cm = confusion_matrix(y_test, y_pred, labels=df['Type'].unique())\n",
    "\n",
    "# Calculate accuracy\n",
    "accuracy = accuracy_score(y_test, y_pred)\n",
    "\n",
    "# Plot confusion matrix\n",
    "plt.figure(figsize=(10, 8))\n",
    "sns.heatmap(cm, annot=True, fmt='d', cmap='Blues', xticklabels=df['Type'].unique(), yticklabels=df['Type'].unique())\n",
    "plt.xlabel('Predicted')\n",
    "plt.ylabel('Actual')\n",
    "plt.title('Confusion Matrix')\n",
    "plt.show()\n",
    "\n",
    "print(f'Accuracy: {accuracy:.4f}')"
   ]
  }
 ],
 "metadata": {
  "kernelspec": {
   "display_name": "personalProjects",
   "language": "python",
   "name": "python3"
  },
  "language_info": {
   "codemirror_mode": {
    "name": "ipython",
    "version": 3
   },
   "file_extension": ".py",
   "mimetype": "text/x-python",
   "name": "python",
   "nbconvert_exporter": "python",
   "pygments_lexer": "ipython3",
   "version": "3.12.6"
  }
 },
 "nbformat": 4,
 "nbformat_minor": 2
}
